{
  "nbformat": 4,
  "nbformat_minor": 0,
  "metadata": {
    "colab": {
      "name": "view vs copy.ipynb",
      "provenance": [],
      "authorship_tag": "ABX9TyPPsNAGka9BMwf5xfIilbSl",
      "include_colab_link": true
    },
    "kernelspec": {
      "name": "python3",
      "display_name": "Python 3"
    }
  },
  "cells": [
    {
      "cell_type": "markdown",
      "metadata": {
        "id": "view-in-github",
        "colab_type": "text"
      },
      "source": [
        "<a href=\"https://colab.research.google.com/github/Tech-Amol5278/NumPy/blob/master/view_vs_copy.ipynb\" target=\"_parent\"><img src=\"https://colab.research.google.com/assets/colab-badge.svg\" alt=\"Open In Colab\"/></a>"
      ]
    },
    {
      "cell_type": "code",
      "metadata": {
        "id": "1A-UtVH0q3MV",
        "colab_type": "code",
        "colab": {}
      },
      "source": [
        "import numpy as np"
      ],
      "execution_count": 0,
      "outputs": []
    },
    {
      "cell_type": "code",
      "metadata": {
        "id": "xxKe7pHoq_IN",
        "colab_type": "code",
        "colab": {
          "base_uri": "https://localhost:8080/",
          "height": 34
        },
        "outputId": "ca7ea247-f54d-4b44-e8a4-d6a262bddee6"
      },
      "source": [
        "a = np.array([5,10,15,20,25,30,35,40])\n",
        "a"
      ],
      "execution_count": 10,
      "outputs": [
        {
          "output_type": "execute_result",
          "data": {
            "text/plain": [
              "array([ 5, 10, 15, 20, 25, 30, 35, 40])"
            ]
          },
          "metadata": {
            "tags": []
          },
          "execution_count": 10
        }
      ]
    },
    {
      "cell_type": "code",
      "metadata": {
        "id": "3TnOltGNrH_S",
        "colab_type": "code",
        "colab": {
          "base_uri": "https://localhost:8080/",
          "height": 34
        },
        "outputId": "e9f660d8-982d-4b7a-8ea9-e6a37d4dd6b6"
      },
      "source": [
        "sliced_a = a[2:5]\n",
        "print(sliced_a)"
      ],
      "execution_count": 11,
      "outputs": [
        {
          "output_type": "stream",
          "text": [
            "[15 20 25]\n"
          ],
          "name": "stdout"
        }
      ]
    },
    {
      "cell_type": "markdown",
      "metadata": {
        "id": "abT4xUc8ridM",
        "colab_type": "text"
      },
      "source": [
        "updating the values in sliced_a or broadcasting"
      ]
    },
    {
      "cell_type": "code",
      "metadata": {
        "id": "Drpjfg5trXk7",
        "colab_type": "code",
        "colab": {
          "base_uri": "https://localhost:8080/",
          "height": 34
        },
        "outputId": "1892000b-7dde-4a9f-9f61-ecc36d1ab9c4"
      },
      "source": [
        "sliced_a[:] = 0\n",
        "print(sliced_a)"
      ],
      "execution_count": 12,
      "outputs": [
        {
          "output_type": "stream",
          "text": [
            "[0 0 0]\n"
          ],
          "name": "stdout"
        }
      ]
    },
    {
      "cell_type": "code",
      "metadata": {
        "id": "t-ae-tvrrrFR",
        "colab_type": "code",
        "colab": {
          "base_uri": "https://localhost:8080/",
          "height": 34
        },
        "outputId": "8f75dc3b-b087-401c-8a23-47504033bdde"
      },
      "source": [
        "# now if we check the our main array, the values inside the main array also has been changed, see below\n",
        "a\n",
        "# this is because sliced_a is shares the same memory as a similar to view."
      ],
      "execution_count": 13,
      "outputs": [
        {
          "output_type": "execute_result",
          "data": {
            "text/plain": [
              "array([ 5, 10,  0,  0,  0, 30, 35, 40])"
            ]
          },
          "metadata": {
            "tags": []
          },
          "execution_count": 13
        }
      ]
    },
    {
      "cell_type": "code",
      "metadata": {
        "id": "WePJAnCWsYcd",
        "colab_type": "code",
        "colab": {
          "base_uri": "https://localhost:8080/",
          "height": 34
        },
        "outputId": "2655d5f2-5039-4c32-8bc4-d3fa4197897b"
      },
      "source": [
        "# to overcome this we can use copy method to create another object.\n",
        "b = np.array([5,10,15,20,25,30,35,40])\n",
        "\n",
        "sliced_b = b[2:5].copy()\n",
        "sliced_b"
      ],
      "execution_count": 17,
      "outputs": [
        {
          "output_type": "execute_result",
          "data": {
            "text/plain": [
              "array([15, 20, 25])"
            ]
          },
          "metadata": {
            "tags": []
          },
          "execution_count": 17
        }
      ]
    },
    {
      "cell_type": "code",
      "metadata": {
        "id": "vhn-HSj5syOz",
        "colab_type": "code",
        "colab": {
          "base_uri": "https://localhost:8080/",
          "height": 51
        },
        "outputId": "8c390774-ed0c-4e20-88ed-dfe2f6706008"
      },
      "source": [
        "sliced_b[:] = 0\n",
        "print(sliced_b)\n",
        "print(b) # see this has not changed the b"
      ],
      "execution_count": 21,
      "outputs": [
        {
          "output_type": "stream",
          "text": [
            "[0 0 0]\n",
            "[ 5 10 15 20 25 30 35 40]\n"
          ],
          "name": "stdout"
        }
      ]
    },
    {
      "cell_type": "code",
      "metadata": {
        "id": "EXdHZdVYtL1C",
        "colab_type": "code",
        "colab": {}
      },
      "source": [
        ""
      ],
      "execution_count": 0,
      "outputs": []
    }
  ]
}