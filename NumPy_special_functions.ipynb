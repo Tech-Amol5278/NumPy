{
  "nbformat": 4,
  "nbformat_minor": 0,
  "metadata": {
    "colab": {
      "name": "NumPy special functions.ipynb",
      "provenance": [],
      "authorship_tag": "ABX9TyOylTIMPNKqQlV7abRqgrfg",
      "include_colab_link": true
    },
    "kernelspec": {
      "name": "python3",
      "display_name": "Python 3"
    }
  },
  "cells": [
    {
      "cell_type": "markdown",
      "metadata": {
        "id": "view-in-github",
        "colab_type": "text"
      },
      "source": [
        "<a href=\"https://colab.research.google.com/github/Tech-Amol5278/NumPy/blob/master/NumPy_special_functions.ipynb\" target=\"_parent\"><img src=\"https://colab.research.google.com/assets/colab-badge.svg\" alt=\"Open In Colab\"/></a>"
      ]
    },
    {
      "cell_type": "code",
      "metadata": {
        "id": "ieaXZfZK9D2p",
        "colab_type": "code",
        "colab": {}
      },
      "source": [
        "import numpy as np\n",
        "import matplotlib.pyplot as plt\n"
      ],
      "execution_count": 0,
      "outputs": []
    },
    {
      "cell_type": "markdown",
      "metadata": {
        "id": "QtgjHzzXPuiD",
        "colab_type": "text"
      },
      "source": [
        "**sin,cos,tan, etc ...**"
      ]
    },
    {
      "cell_type": "code",
      "metadata": {
        "id": "oM7aN_h_O7Qc",
        "colab_type": "code",
        "colab": {}
      },
      "source": [
        "x = np.arange(0,3*np.pi,0.1)"
      ],
      "execution_count": 0,
      "outputs": []
    },
    {
      "cell_type": "code",
      "metadata": {
        "id": "ApJyXnP1PFyQ",
        "colab_type": "code",
        "colab": {}
      },
      "source": [
        "y = np.tan(x)"
      ],
      "execution_count": 0,
      "outputs": []
    },
    {
      "cell_type": "code",
      "metadata": {
        "id": "V7uhh6q4PKUA",
        "colab_type": "code",
        "colab": {
          "base_uri": "https://localhost:8080/",
          "height": 282
        },
        "outputId": "c27b7dbd-d74e-420f-9416-ac174b354045"
      },
      "source": [
        "plt.plot(x,y)"
      ],
      "execution_count": 9,
      "outputs": [
        {
          "output_type": "execute_result",
          "data": {
            "text/plain": [
              "[<matplotlib.lines.Line2D at 0x7fb7d5465710>]"
            ]
          },
          "metadata": {
            "tags": []
          },
          "execution_count": 9
        },
        {
          "output_type": "display_data",
          "data": {
            "image/png": "[encoded data removed]",
            "text/plain": [
              "<Figure size 432x288 with 1 Axes>"
            ]
          },
          "metadata": {
            "tags": [],
            "needs_background": "light"
          }
        }
      ]
    },
    {
      "cell_type": "markdown",
      "metadata": {
        "id": "U6ncHNrmP0FU",
        "colab_type": "text"
      },
      "source": [
        "**Exponential function**"
      ]
    },
    {
      "cell_type": "code",
      "metadata": {
        "id": "c_B4oybgPNH4",
        "colab_type": "code",
        "colab": {}
      },
      "source": [
        "ar = np.array([1,2,3,4,5])"
      ],
      "execution_count": 0,
      "outputs": []
    },
    {
      "cell_type": "code",
      "metadata": {
        "id": "Aoeq9nNYPTTS",
        "colab_type": "code",
        "colab": {
          "base_uri": "https://localhost:8080/",
          "height": 34
        },
        "outputId": "e078d392-1ed7-4516-926f-feacd4355814"
      },
      "source": [
        "print(np.exp(ar))"
      ],
      "execution_count": 11,
      "outputs": [
        {
          "output_type": "stream",
          "text": [
            "[  2.71828183   7.3890561   20.08553692  54.59815003 148.4131591 ]\n"
          ],
          "name": "stdout"
        }
      ]
    },
    {
      "cell_type": "markdown",
      "metadata": {
        "id": "_NGFQqu9Quen",
        "colab_type": "text"
      },
      "source": [
        "**Logarithmic function**"
      ]
    },
    {
      "cell_type": "code",
      "metadata": {
        "id": "MOTRjztVQTgg",
        "colab_type": "code",
        "colab": {
          "base_uri": "https://localhost:8080/",
          "height": 34
        },
        "outputId": "3b52fedd-5f99-422c-a353-f3bbdfe7e6a8"
      },
      "source": [
        "a  = np.array([1,2,3])\n",
        "print(np.log(a))  ## natural log i.e base e"
      ],
      "execution_count": 12,
      "outputs": [
        {
          "output_type": "stream",
          "text": [
            "[0.         0.69314718 1.09861229]\n"
          ],
          "name": "stdout"
        }
      ]
    },
    {
      "cell_type": "code",
      "metadata": {
        "id": "XAv-rYVDRVLY",
        "colab_type": "code",
        "colab": {
          "base_uri": "https://localhost:8080/",
          "height": 34
        },
        "outputId": "ae4d0a3c-d549-4a0d-e194-ac0bd97fa541"
      },
      "source": [
        "print(np.log10(a)) ## log raised to power 10"
      ],
      "execution_count": 15,
      "outputs": [
        {
          "output_type": "stream",
          "text": [
            "[0.         0.30103    0.47712125]\n"
          ],
          "name": "stdout"
        }
      ]
    },
    {
      "cell_type": "code",
      "metadata": {
        "id": "1Y1q66T3RZFY",
        "colab_type": "code",
        "colab": {}
      },
      "source": [
        ""
      ],
      "execution_count": 0,
      "outputs": []
    }
  ]
}