{
  "nbformat": 4,
  "nbformat_minor": 0,
  "metadata": {
    "colab": {
      "name": "2d matrix indexing and slicing.ipynb",
      "provenance": [],
      "authorship_tag": "ABX9TyO+4dpm5DXqZ3ksdjgGgqJd",
      "include_colab_link": true
    },
    "kernelspec": {
      "name": "python3",
      "display_name": "Python 3"
    }
  },
  "cells": [
    {
      "cell_type": "markdown",
      "metadata": {
        "id": "view-in-github",
        "colab_type": "text"
      },
      "source": [
        "<a href=\"https://colab.research.google.com/github/Tech-Amol5278/NumPy/blob/master/2d_matrix_indexing_and_slicing.ipynb\" target=\"_parent\"><img src=\"https://colab.research.google.com/assets/colab-badge.svg\" alt=\"Open In Colab\"/></a>"
      ]
    },
    {
      "cell_type": "markdown",
      "metadata": {
        "id": "4bgWT_TzfTq7",
        "colab_type": "text"
      },
      "source": [
        "**Create 2d array**"
      ]
    },
    {
      "cell_type": "code",
      "metadata": {
        "id": "-pbT2qtWfJMK",
        "colab_type": "code",
        "colab": {}
      },
      "source": [
        "import numpy as np"
      ],
      "execution_count": 0,
      "outputs": []
    },
    {
      "cell_type": "code",
      "metadata": {
        "id": "-5WSZ43jfaGF",
        "colab_type": "code",
        "colab": {
          "base_uri": "https://localhost:8080/",
          "height": 68
        },
        "outputId": "64041fba-43b0-4704-bf57-393efb20b23a"
      },
      "source": [
        "\n",
        "m = np.array([ [5,10,15], [20,25,30], [35,40,45] ])\n",
        "print(m)"
      ],
      "execution_count": 2,
      "outputs": [
        {
          "output_type": "stream",
          "text": [
            "[[ 5 10 15]\n",
            " [20 25 30]\n",
            " [35 40 45]]\n"
          ],
          "name": "stdout"
        }
      ]
    },
    {
      "cell_type": "markdown",
      "metadata": {
        "id": "unHSXGwpfvdC",
        "colab_type": "text"
      },
      "source": [
        "Indexing using double bracket notation"
      ]
    },
    {
      "cell_type": "code",
      "metadata": {
        "id": "bN6zC-C3ftOT",
        "colab_type": "code",
        "colab": {
          "base_uri": "https://localhost:8080/",
          "height": 51
        },
        "outputId": "1cecf9e7-e569-47b0-aad9-608f08a3e794"
      },
      "source": [
        "# to get the element 10\n",
        "print(m[0][1])\n",
        "# to get the element 25\n",
        "print(m[1][1])"
      ],
      "execution_count": 4,
      "outputs": [
        {
          "output_type": "stream",
          "text": [
            "10\n",
            "25\n"
          ],
          "name": "stdout"
        }
      ]
    },
    {
      "cell_type": "markdown",
      "metadata": {
        "id": "9QrCai2OgSDk",
        "colab_type": "text"
      },
      "source": [
        "Indexing using single bracket notation(Recommended)"
      ]
    },
    {
      "cell_type": "code",
      "metadata": {
        "id": "OYTYBOtpgCfK",
        "colab_type": "code",
        "colab": {
          "base_uri": "https://localhost:8080/",
          "height": 51
        },
        "outputId": "21e7b6a6-653d-46f6-9bbe-2b6c28debda6"
      },
      "source": [
        "# to access 10\n",
        "print(m[0,1])\n",
        "# to access 45\n",
        "print(m[2,2])"
      ],
      "execution_count": 6,
      "outputs": [
        {
          "output_type": "stream",
          "text": [
            "10\n",
            "45\n"
          ],
          "name": "stdout"
        }
      ]
    },
    {
      "cell_type": "markdown",
      "metadata": {
        "id": "Y0tv1TIrg2yG",
        "colab_type": "text"
      },
      "source": [
        "Slicing using single bracket notation"
      ]
    },
    {
      "cell_type": "code",
      "metadata": {
        "id": "SBYTVHZ2glgx",
        "colab_type": "code",
        "colab": {
          "base_uri": "https://localhost:8080/",
          "height": 85
        },
        "outputId": "a5cf0ed6-d5f0-4581-ec9e-800b2d100623"
      },
      "source": [
        "# to get the below output as : [[5,10]\n",
        "#                               [20,25] ]\n",
        "\n",
        "print(m[:2])\n",
        "print(m[:2,:2])"
      ],
      "execution_count": 10,
      "outputs": [
        {
          "output_type": "stream",
          "text": [
            "[[ 5 10 15]\n",
            " [20 25 30]]\n",
            "[[ 5 10]\n",
            " [20 25]]\n"
          ],
          "name": "stdout"
        }
      ]
    },
    {
      "cell_type": "code",
      "metadata": {
        "id": "EjF7Ep0jhvSA",
        "colab_type": "code",
        "colab": {}
      },
      "source": [
        ""
      ],
      "execution_count": 0,
      "outputs": []
    }
  ]
}