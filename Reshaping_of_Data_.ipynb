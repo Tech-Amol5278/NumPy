{
  "nbformat": 4,
  "nbformat_minor": 0,
  "metadata": {
    "colab": {
      "name": "Reshaping of Data .ipynb",
      "provenance": [],
      "authorship_tag": "ABX9TyN1hmsdiWtINpSd4NoHqC6g",
      "include_colab_link": true
    },
    "kernelspec": {
      "name": "python3",
      "display_name": "Python 3"
    }
  },
  "cells": [
    {
      "cell_type": "markdown",
      "metadata": {
        "id": "view-in-github",
        "colab_type": "text"
      },
      "source": [
        "<a href=\"https://colab.research.google.com/github/Tech-Amol5278/NumPy/blob/master/Reshaping_of_Data_.ipynb\" target=\"_parent\"><img src=\"https://colab.research.google.com/assets/colab-badge.svg\" alt=\"Open In Colab\"/></a>"
      ]
    },
    {
      "cell_type": "code",
      "metadata": {
        "id": "mI6Zaw47Ksep",
        "colab_type": "code",
        "colab": {}
      },
      "source": [
        "import numpy as np"
      ],
      "execution_count": 0,
      "outputs": []
    },
    {
      "cell_type": "code",
      "metadata": {
        "id": "9R7PEMHgLpJd",
        "colab_type": "code",
        "colab": {
          "base_uri": "https://localhost:8080/",
          "height": 102
        },
        "outputId": "36edc29a-15a3-4630-cdc3-777e644a0469"
      },
      "source": [
        "a = np.random.randint(1,100,50)\n",
        "print(a)\n",
        "print(a.shape)\n",
        "print(a.ndim)"
      ],
      "execution_count": 23,
      "outputs": [
        {
          "output_type": "stream",
          "text": [
            "[ 7 52 88 65 45 22 31 97 54 68 13 21 94 41  4 97 80 46 47 16 70 52 90 48\n",
            " 56 45 26 39 69 80 99 36 31 27 37  6 40 77 74 30 30 88 32 28 83 78 28 71\n",
            "  3 36]\n",
            "(50,)\n",
            "1\n"
          ],
          "name": "stdout"
        }
      ]
    },
    {
      "cell_type": "code",
      "metadata": {
        "id": "dra_XqTMLyIG",
        "colab_type": "code",
        "colab": {
          "base_uri": "https://localhost:8080/",
          "height": 187
        },
        "outputId": "dcdb6e03-fc09-49d2-9f4e-31161bda837d"
      },
      "source": [
        "a = a.reshape(10,5)  # reshaping this to 10 rows,5 cols\n",
        "print(a)"
      ],
      "execution_count": 27,
      "outputs": [
        {
          "output_type": "stream",
          "text": [
            "[[ 7 52 88 65 45]\n",
            " [22 31 97 54 68]\n",
            " [13 21 94 41  4]\n",
            " [97 80 46 47 16]\n",
            " [70 52 90 48 56]\n",
            " [45 26 39 69 80]\n",
            " [99 36 31 27 37]\n",
            " [ 6 40 77 74 30]\n",
            " [30 88 32 28 83]\n",
            " [78 28 71  3 36]]\n"
          ],
          "name": "stdout"
        }
      ]
    },
    {
      "cell_type": "code",
      "metadata": {
        "id": "8gkXwoQcMdpV",
        "colab_type": "code",
        "colab": {
          "base_uri": "https://localhost:8080/",
          "height": 255
        },
        "outputId": "b1a30b7a-70d6-44ac-d1ba-a4aac550a49b"
      },
      "source": [
        "a = np.random.randint(1,100,50)\n",
        "print(a)\n",
        "a = a.reshape(2,5,5)  # reshaping this to 3 dimenstions and 5 values\n",
        "print(a)"
      ],
      "execution_count": 28,
      "outputs": [
        {
          "output_type": "stream",
          "text": [
            "[53 62 62 70 55  9  1 15 44 99  2 65 74 52 25 49 51 49 45 90 91 91 98 55\n",
            " 20 59 58 35 13 42 27 25 55 98 67 93 19 32 47 24 28 70 36 74 25 10 67 42\n",
            " 62 58]\n",
            "[[[53 62 62 70 55]\n",
            "  [ 9  1 15 44 99]\n",
            "  [ 2 65 74 52 25]\n",
            "  [49 51 49 45 90]\n",
            "  [91 91 98 55 20]]\n",
            "\n",
            " [[59 58 35 13 42]\n",
            "  [27 25 55 98 67]\n",
            "  [93 19 32 47 24]\n",
            "  [28 70 36 74 25]\n",
            "  [10 67 42 62 58]]]\n"
          ],
          "name": "stdout"
        }
      ]
    },
    {
      "cell_type": "markdown",
      "metadata": {
        "id": "cswsISXnWyt8",
        "colab_type": "text"
      },
      "source": [
        "Negative 1 in Reshape"
      ]
    },
    {
      "cell_type": "code",
      "metadata": {
        "id": "YBVUpbpxM1M0",
        "colab_type": "code",
        "colab": {
          "base_uri": "https://localhost:8080/",
          "height": 34
        },
        "outputId": "1548c15e-a61c-406e-d13e-0c8840b577d0"
      },
      "source": [
        "a = np.arange(1,11)\n",
        "a"
      ],
      "execution_count": 29,
      "outputs": [
        {
          "output_type": "execute_result",
          "data": {
            "text/plain": [
              "array([ 1,  2,  3,  4,  5,  6,  7,  8,  9, 10])"
            ]
          },
          "metadata": {
            "tags": []
          },
          "execution_count": 29
        }
      ]
    },
    {
      "cell_type": "code",
      "metadata": {
        "id": "ryVWJTT4W7oV",
        "colab_type": "code",
        "colab": {
          "base_uri": "https://localhost:8080/",
          "height": 51
        },
        "outputId": "fdd2a936-0f1b-4224-dc55-b64d9f62f1b5"
      },
      "source": [
        "b = a.reshape(2,5)\n",
        "print(b)"
      ],
      "execution_count": 32,
      "outputs": [
        {
          "output_type": "stream",
          "text": [
            "[[ 1  2  3  4  5]\n",
            " [ 6  7  8  9 10]]\n"
          ],
          "name": "stdout"
        }
      ]
    },
    {
      "cell_type": "code",
      "metadata": {
        "id": "AMkWB6Y8XBqN",
        "colab_type": "code",
        "colab": {
          "base_uri": "https://localhost:8080/",
          "height": 68
        },
        "outputId": "6fd95a96-5edf-4099-cd03-2e1fab84e582"
      },
      "source": [
        "# same can  be done using -1\n",
        "# when we give -1, python automatically gets the value, see below..\n",
        "print(a.size) \n",
        "\n",
        "c = a.reshape(2,-1)   \n",
        "print(c)\n",
        "\n",
        "# this is same as b, because python replaces the -1 with the expected value, below is the formula\n",
        "# array size = multiplication of shapes\n",
        "# i.e 10 = 2 * (-1) # here it replaces -1 with 5\n",
        "\n",
        "\n"
      ],
      "execution_count": 39,
      "outputs": [
        {
          "output_type": "stream",
          "text": [
            "10\n",
            "[[ 1  2  3  4  5]\n",
            " [ 6  7  8  9 10]]\n"
          ],
          "name": "stdout"
        }
      ]
    },
    {
      "cell_type": "code",
      "metadata": {
        "id": "vH-Na1nKXQHQ",
        "colab_type": "code",
        "colab": {
          "base_uri": "https://localhost:8080/",
          "height": 51
        },
        "outputId": "b692a340-dfcf-4170-e9b5-a94dc939ee03"
      },
      "source": [
        "d = a.reshape(-1,5)   \n",
        "print(d)"
      ],
      "execution_count": 36,
      "outputs": [
        {
          "output_type": "stream",
          "text": [
            "[[ 1  2  3  4  5]\n",
            " [ 6  7  8  9 10]]\n"
          ],
          "name": "stdout"
        }
      ]
    },
    {
      "cell_type": "code",
      "metadata": {
        "id": "wwRX44mjY4bv",
        "colab_type": "code",
        "colab": {
          "base_uri": "https://localhost:8080/",
          "height": 51
        },
        "outputId": "30f56e2f-c881-47ae-b449-ed54df7435d3"
      },
      "source": [
        "e = a.reshape(2,-1)   \n",
        "print(e)"
      ],
      "execution_count": 41,
      "outputs": [
        {
          "output_type": "stream",
          "text": [
            "[[ 1  2  3  4  5]\n",
            " [ 6  7  8  9 10]]\n"
          ],
          "name": "stdout"
        }
      ]
    },
    {
      "cell_type": "code",
      "metadata": {
        "id": "iEzHEh_5ZbR7",
        "colab_type": "code",
        "colab": {}
      },
      "source": [
        ""
      ],
      "execution_count": 0,
      "outputs": []
    }
  ]
}