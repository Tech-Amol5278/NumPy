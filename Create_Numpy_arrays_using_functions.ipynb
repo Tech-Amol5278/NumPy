{
  "nbformat": 4,
  "nbformat_minor": 0,
  "metadata": {
    "colab": {
      "name": "Create Numpy arrays using functions.ipynb",
      "provenance": [],
      "collapsed_sections": [],
      "authorship_tag": "ABX9TyOjoWpcvzSq9wol07zjib1d",
      "include_colab_link": true
    },
    "kernelspec": {
      "name": "python3",
      "display_name": "Python 3"
    }
  },
  "cells": [
    {
      "cell_type": "markdown",
      "metadata": {
        "id": "view-in-github",
        "colab_type": "text"
      },
      "source": [
        "<a href=\"https://colab.research.google.com/github/Tech-Amol5278/NumPy/blob/master/Create_Numpy_arrays_using_functions.ipynb\" target=\"_parent\"><img src=\"https://colab.research.google.com/assets/colab-badge.svg\" alt=\"Open In Colab\"/></a>"
      ]
    },
    {
      "cell_type": "markdown",
      "metadata": {
        "id": "Lf7hhy2Dukxl",
        "colab_type": "text"
      },
      "source": [
        "Numpy Functions: zeros,ones,eye,diag,randint,rand,randn"
      ]
    },
    {
      "cell_type": "code",
      "metadata": {
        "id": "HdNTqARHucTh",
        "colab_type": "code",
        "colab": {}
      },
      "source": [
        "import numpy as np"
      ],
      "execution_count": 0,
      "outputs": []
    },
    {
      "cell_type": "code",
      "metadata": {
        "id": "FkjU3zb2u-9y",
        "colab_type": "code",
        "outputId": "9ce0e938-c483-4c14-96cc-292a06658f8b",
        "colab": {
          "base_uri": "https://localhost:8080/",
          "height": 34
        }
      },
      "source": [
        "arr = np.zeros(5)\n",
        "arr # this returns array of 5 zeros "
      ],
      "execution_count": 0,
      "outputs": [
        {
          "output_type": "execute_result",
          "data": {
            "text/plain": [
              "array([0., 0., 0., 0., 0.])"
            ]
          },
          "metadata": {
            "tags": []
          },
          "execution_count": 3
        }
      ]
    },
    {
      "cell_type": "code",
      "metadata": {
        "id": "17bVT_vtvDab",
        "colab_type": "code",
        "outputId": "a33b48a2-f6f5-46f2-b6cf-8ae7291e9c42",
        "colab": {
          "base_uri": "https://localhost:8080/",
          "height": 51
        }
      },
      "source": [
        "arr = np.zeros((2,3))  \n",
        "arr  # this will returns array of zeros with 2 rows and 3 columns"
      ],
      "execution_count": 0,
      "outputs": [
        {
          "output_type": "execute_result",
          "data": {
            "text/plain": [
              "array([[0., 0., 0.],\n",
              "       [0., 0., 0.]])"
            ]
          },
          "metadata": {
            "tags": []
          },
          "execution_count": 4
        }
      ]
    },
    {
      "cell_type": "code",
      "metadata": {
        "id": "3htqSgAwvP_T",
        "colab_type": "code",
        "outputId": "f379fe57-3a11-4ea8-ea4c-60dd48ad54f5",
        "colab": {
          "base_uri": "https://localhost:8080/",
          "height": 34
        }
      },
      "source": [
        "arr  = np.ones(5)\n",
        "arr  # this returns array of 5 zeros "
      ],
      "execution_count": 0,
      "outputs": [
        {
          "output_type": "execute_result",
          "data": {
            "text/plain": [
              "array([1., 1., 1., 1., 1.])"
            ]
          },
          "metadata": {
            "tags": []
          },
          "execution_count": 5
        }
      ]
    },
    {
      "cell_type": "code",
      "metadata": {
        "id": "yAlgZztHxi9N",
        "colab_type": "code",
        "outputId": "8883efb4-e238-4a46-fabe-c721487762a4",
        "colab": {
          "base_uri": "https://localhost:8080/",
          "height": 68
        }
      },
      "source": [
        "arr  = np.ones((3,4))\n",
        "arr  # this will returns array of zeros with 3 rows and 4  columns"
      ],
      "execution_count": 0,
      "outputs": [
        {
          "output_type": "execute_result",
          "data": {
            "text/plain": [
              "array([[1., 1., 1., 1.],\n",
              "       [1., 1., 1., 1.],\n",
              "       [1., 1., 1., 1.]])"
            ]
          },
          "metadata": {
            "tags": []
          },
          "execution_count": 6
        }
      ]
    },
    {
      "cell_type": "code",
      "metadata": {
        "id": "iCh14sR-yPHe",
        "colab_type": "code",
        "outputId": "233286c2-bace-4638-815a-703a555c2f7e",
        "colab": {
          "base_uri": "https://localhost:8080/",
          "height": 85
        }
      },
      "source": [
        "arr  = np.eye(4) \n",
        "arr"
      ],
      "execution_count": 0,
      "outputs": [
        {
          "output_type": "execute_result",
          "data": {
            "text/plain": [
              "array([[1., 0., 0., 0.],\n",
              "       [0., 1., 0., 0.],\n",
              "       [0., 0., 1., 0.],\n",
              "       [0., 0., 0., 1.]])"
            ]
          },
          "metadata": {
            "tags": []
          },
          "execution_count": 7
        }
      ]
    },
    {
      "cell_type": "code",
      "metadata": {
        "id": "R9yjiACqyu6W",
        "colab_type": "code",
        "outputId": "d941a4b3-9eb4-4403-ce69-59a116df85ba",
        "colab": {
          "base_uri": "https://localhost:8080/",
          "height": 68
        }
      },
      "source": [
        "arr = np.eye(3,4)\n",
        "arr\n"
      ],
      "execution_count": 0,
      "outputs": [
        {
          "output_type": "execute_result",
          "data": {
            "text/plain": [
              "array([[1., 0., 0., 0.],\n",
              "       [0., 1., 0., 0.],\n",
              "       [0., 0., 1., 0.]])"
            ]
          },
          "metadata": {
            "tags": []
          },
          "execution_count": 8
        }
      ]
    },
    {
      "cell_type": "code",
      "metadata": {
        "id": "SB_HtDVkzXEC",
        "colab_type": "code",
        "outputId": "f01c8c91-229a-4124-a5f2-014254952c76",
        "colab": {
          "base_uri": "https://localhost:8080/",
          "height": 85
        }
      },
      "source": [
        "arr = np.diag([1,2,3,4])\n",
        "arr\n",
        "# this accepts the list as arguement and create the square matrix using the list elements top left -bottom right diagonally"
      ],
      "execution_count": 0,
      "outputs": [
        {
          "output_type": "execute_result",
          "data": {
            "text/plain": [
              "array([[1, 0, 0, 0],\n",
              "       [0, 2, 0, 0],\n",
              "       [0, 0, 3, 0],\n",
              "       [0, 0, 0, 4]])"
            ]
          },
          "metadata": {
            "tags": []
          },
          "execution_count": 9
        }
      ]
    },
    {
      "cell_type": "code",
      "metadata": {
        "id": "iu7suY_Azubb",
        "colab_type": "code",
        "outputId": "316f2109-210d-47f8-c94d-69d069972677",
        "colab": {
          "base_uri": "https://localhost:8080/",
          "height": 34
        }
      },
      "source": [
        "np.diag(arr) # this is to check diagonal values, refer output of line 23"
      ],
      "execution_count": 0,
      "outputs": [
        {
          "output_type": "execute_result",
          "data": {
            "text/plain": [
              "array([1, 2, 3, 4])"
            ]
          },
          "metadata": {
            "tags": []
          },
          "execution_count": 10
        }
      ]
    },
    {
      "cell_type": "code",
      "metadata": {
        "id": "tTZUPTUv09fE",
        "colab_type": "code",
        "outputId": "084c68d1-d8df-4221-c0ef-36498d8bb865",
        "colab": {
          "base_uri": "https://localhost:8080/",
          "height": 34
        }
      },
      "source": [
        "rand_arr = np.random.randint(1,15,4)  # to get any 4 random numbers between 1 - 15\n",
        "rand_arr  "
      ],
      "execution_count": 0,
      "outputs": [
        {
          "output_type": "execute_result",
          "data": {
            "text/plain": [
              "array([ 7, 13,  2,  2])"
            ]
          },
          "metadata": {
            "tags": []
          },
          "execution_count": 11
        }
      ]
    },
    {
      "cell_type": "code",
      "metadata": {
        "id": "OvhgbCjPbdU5",
        "colab_type": "code",
        "outputId": "5c22f76b-4b94-4c99-8d15-5cfbcd916ff8",
        "colab": {
          "base_uri": "https://localhost:8080/",
          "height": 34
        }
      },
      "source": [
        "rand_arr = np.random.rand(4)  # to get 4 random numbers from 0 -1 (which is default limit)\n",
        "rand_arr  "
      ],
      "execution_count": 0,
      "outputs": [
        {
          "output_type": "execute_result",
          "data": {
            "text/plain": [
              "array([0.10639305, 0.44023421, 0.76666151, 0.69692161])"
            ]
          },
          "metadata": {
            "tags": []
          },
          "execution_count": 12
        }
      ]
    },
    {
      "cell_type": "code",
      "metadata": {
        "id": "ZnxIdyq0cCW5",
        "colab_type": "code",
        "outputId": "722da8ed-7a7e-4dcc-d460-e40296e1a80f",
        "colab": {
          "base_uri": "https://localhost:8080/",
          "height": 85
        }
      },
      "source": [
        "rand_arr = np.random.rand(2,10)  # to get 4 random numbers from 0 -1 (which is default limit)\n",
        "rand_arr  "
      ],
      "execution_count": 0,
      "outputs": [
        {
          "output_type": "execute_result",
          "data": {
            "text/plain": [
              "array([[0.27287176, 0.46033204, 0.14030654, 0.29986081, 0.24774815,\n",
              "        0.5307129 , 0.5825482 , 0.40824396, 0.59916418, 0.61896792],\n",
              "       [0.84685608, 0.372855  , 0.98969917, 0.5051912 , 0.74680673,\n",
              "        0.88384782, 0.42084914, 0.587411  , 0.57912411, 0.94881752]])"
            ]
          },
          "metadata": {
            "tags": []
          },
          "execution_count": 13
        }
      ]
    },
    {
      "cell_type": "code",
      "metadata": {
        "id": "0iG6XSt7cqu7",
        "colab_type": "code",
        "outputId": "af2f10a9-355b-439e-e3c7-a898b34f05c6",
        "colab": {
          "base_uri": "https://localhost:8080/",
          "height": 85
        }
      },
      "source": [
        "a = np.array([1,2,3,4,5,6,7])\n",
        "print(a)\n",
        "print(a.dtype)\n",
        "print(a.size)   # to get the size of the array\n",
        "print(a.shape)"
      ],
      "execution_count": 0,
      "outputs": [
        {
          "output_type": "stream",
          "text": [
            "[1 2 3 4 5 6 7]\n",
            "int64\n",
            "7\n",
            "(7,)\n"
          ],
          "name": "stdout"
        }
      ]
    },
    {
      "cell_type": "markdown",
      "metadata": {
        "id": "i4M5wgirN7qh",
        "colab_type": "text"
      },
      "source": [
        "**arange function**"
      ]
    },
    {
      "cell_type": "code",
      "metadata": {
        "id": "iJhZWrKDN4N4",
        "colab_type": "code",
        "colab": {
          "base_uri": "https://localhost:8080/",
          "height": 102
        },
        "outputId": "aa0d24e2-b19f-49a7-8306-eda1b09dc79a"
      },
      "source": [
        "a = np.arange(100)\n",
        "print(a)\n",
        "\n",
        "\n",
        "# this is similar to range function for lists, dictionaries,tuples etc.."
      ],
      "execution_count": 82,
      "outputs": [
        {
          "output_type": "stream",
          "text": [
            "[ 0  1  2  3  4  5  6  7  8  9 10 11 12 13 14 15 16 17 18 19 20 21 22 23\n",
            " 24 25 26 27 28 29 30 31 32 33 34 35 36 37 38 39 40 41 42 43 44 45 46 47\n",
            " 48 49 50 51 52 53 54 55 56 57 58 59 60 61 62 63 64 65 66 67 68 69 70 71\n",
            " 72 73 74 75 76 77 78 79 80 81 82 83 84 85 86 87 88 89 90 91 92 93 94 95\n",
            " 96 97 98 99]\n"
          ],
          "name": "stdout"
        }
      ]
    },
    {
      "cell_type": "code",
      "metadata": {
        "id": "-ZF_XNSoUFjH",
        "colab_type": "code",
        "outputId": "1a3a3b95-e2ca-4c5c-9819-568f085cc1b5",
        "colab": {
          "base_uri": "https://localhost:8080/",
          "height": 102
        }
      },
      "source": [
        "a = np.array([[1,2,3,4,5,6,7],[1,2,2,4,5,6,8]])\n",
        "print(a)\n",
        "print(a.dtype)\n",
        "print(a.size)   # to get the size of the array\n",
        "print(a.shape)  # to get the shape of the array ( 2 rows, 7 cols)"
      ],
      "execution_count": 0,
      "outputs": [
        {
          "output_type": "stream",
          "text": [
            "[[1 2 3 4 5 6 7]\n",
            " [1 2 2 4 5 6 8]]\n",
            "int64\n",
            "14\n",
            "(2, 7)\n"
          ],
          "name": "stdout"
        }
      ]
    },
    {
      "cell_type": "code",
      "metadata": {
        "id": "syLJwCouVwBH",
        "colab_type": "code",
        "outputId": "840c4a89-d644-4009-e6ff-dea4d414413b",
        "colab": {
          "base_uri": "https://localhost:8080/",
          "height": 85
        }
      },
      "source": [
        "a = np.array([[1,2,3,4],[5,6,7,8]])\n",
        "print(a.reshape(4,2))   # to change the shape (2,4) --> (4,2)"
      ],
      "execution_count": 0,
      "outputs": [
        {
          "output_type": "stream",
          "text": [
            "[[1 2]\n",
            " [3 4]\n",
            " [5 6]\n",
            " [7 8]]\n"
          ],
          "name": "stdout"
        }
      ]
    },
    {
      "cell_type": "markdown",
      "metadata": {
        "id": "GK3_svxPfeqf",
        "colab_type": "text"
      },
      "source": [
        "Slicing on Arrays"
      ]
    },
    {
      "cell_type": "code",
      "metadata": {
        "id": "4MRWL1YvWmzH",
        "colab_type": "code",
        "outputId": "afc8178b-4f99-454f-e915-860053919322",
        "colab": {
          "base_uri": "https://localhost:8080/",
          "height": 68
        }
      },
      "source": [
        "a = np.array([(1,2,3,4),(5,6,7,8)])\n",
        "print(a)\n",
        "# to get element 3 from a\n",
        "print(a[0,2])  # 0 : 1st elemnet in the array ie (1,2,3,4),2 : index postion of 3 in (1,2,3,4)"
      ],
      "execution_count": 0,
      "outputs": [
        {
          "output_type": "stream",
          "text": [
            "[[1 2 3 4]\n",
            " [5 6 7 8]]\n",
            "3\n"
          ],
          "name": "stdout"
        }
      ]
    },
    {
      "cell_type": "code",
      "metadata": {
        "id": "O_t5dSOtgLYz",
        "colab_type": "code",
        "outputId": "12543875-a9a3-41c1-82b5-b3a4fb0b6378",
        "colab": {
          "base_uri": "https://localhost:8080/",
          "height": 68
        }
      },
      "source": [
        "a = np.array([(1,2,3,4),(5,6,7,8)])\n",
        "print(a)\n",
        "# to get (4,8) i.e the last column\n",
        "print(a[0:,3])\n",
        "# a[0:] --> remember here the slicing from basic python i.e 0 is the start argument, and no stop arguement means till last element\n",
        "# 3 --> index postion of last element in the rows i.e 4 and 8\n",
        "# refer the below example which will clear the doubt incase "
      ],
      "execution_count": 0,
      "outputs": [
        {
          "output_type": "stream",
          "text": [
            "[[1 2 3 4]\n",
            " [5 6 7 8]]\n",
            "[4 8]\n"
          ],
          "name": "stdout"
        }
      ]
    },
    {
      "cell_type": "code",
      "metadata": {
        "id": "ubILts-kgYVY",
        "colab_type": "code",
        "outputId": "55541843-f724-4d6a-8672-6b6cf6dd9180",
        "colab": {
          "base_uri": "https://localhost:8080/",
          "height": 51
        }
      },
      "source": [
        "a = np.array([(1,2,3,4),(5,6,7,8),(7,8,9,10)])\n",
        "print(a[0:,3]) # returns [4 8 10] since no stop argument was given\n",
        "print(a[0:2,3])  # with stop arguement to get only [4 8]\n"
      ],
      "execution_count": 0,
      "outputs": [
        {
          "output_type": "stream",
          "text": [
            "[ 4  8 10]\n",
            "[4 8]\n"
          ],
          "name": "stdout"
        }
      ]
    },
    {
      "cell_type": "markdown",
      "metadata": {
        "id": "uCBj8KASiq_7",
        "colab_type": "text"
      },
      "source": [
        "<h1>Line Spacing</h1>\n",
        "This gives equally spaced values between the requested nos\n"
      ]
    },
    {
      "cell_type": "code",
      "metadata": {
        "id": "sqOVIvRFh04T",
        "colab_type": "code",
        "outputId": "28963db7-a8dc-4e27-e82e-d52f3358e155",
        "colab": {
          "base_uri": "https://localhost:8080/",
          "height": 34
        }
      },
      "source": [
        "a = np.linspace(1,3,5)  # (r1,rn,values)\n",
        "a\n",
        "# 5 equal values between 1 and 3"
      ],
      "execution_count": 0,
      "outputs": [
        {
          "output_type": "execute_result",
          "data": {
            "text/plain": [
              "array([1. , 1.5, 2. , 2.5, 3. ])"
            ]
          },
          "metadata": {
            "tags": []
          },
          "execution_count": 55
        }
      ]
    },
    {
      "cell_type": "code",
      "metadata": {
        "id": "TUOVrW62i3h1",
        "colab_type": "code",
        "outputId": "99f29304-8e4a-4090-b11d-1d5c221cc552",
        "colab": {
          "base_uri": "https://localhost:8080/",
          "height": 51
        }
      },
      "source": [
        "a = np.linspace(1,3,10)  # (r1,rn,values)\n",
        "a\n",
        "# 10 equal values between 1 and 3"
      ],
      "execution_count": 0,
      "outputs": [
        {
          "output_type": "execute_result",
          "data": {
            "text/plain": [
              "array([1.        , 1.22222222, 1.44444444, 1.66666667, 1.88888889,\n",
              "       2.11111111, 2.33333333, 2.55555556, 2.77777778, 3.        ])"
            ]
          },
          "metadata": {
            "tags": []
          },
          "execution_count": 56
        }
      ]
    },
    {
      "cell_type": "markdown",
      "metadata": {
        "id": "2HiAnP5LkufA",
        "colab_type": "text"
      },
      "source": [
        "min,max and sum\n"
      ]
    },
    {
      "cell_type": "code",
      "metadata": {
        "id": "vLmRl55oka9V",
        "colab_type": "code",
        "outputId": "79445a23-991a-4372-e70a-329c665e84f4",
        "colab": {
          "base_uri": "https://localhost:8080/",
          "height": 68
        }
      },
      "source": [
        "a = np.array([1,2,3,4])\n",
        "print(a.min())\n",
        "print(a.max())\n",
        "print(a.sum())\n"
      ],
      "execution_count": 0,
      "outputs": [
        {
          "output_type": "stream",
          "text": [
            "1\n",
            "4\n",
            "10\n"
          ],
          "name": "stdout"
        }
      ]
    },
    {
      "cell_type": "code",
      "metadata": {
        "id": "WVsCtuTIk5ba",
        "colab_type": "code",
        "outputId": "66ad3d3e-46fc-4257-abfc-dcf2df2a957a",
        "colab": {
          "base_uri": "https://localhost:8080/",
          "height": 102
        }
      },
      "source": [
        "a = np.array([(1,2,3,4),(5,6,7,8)])\n",
        "print(a)\n",
        "print(a.min())\n",
        "print(a.max())\n",
        "print(a.sum())"
      ],
      "execution_count": 0,
      "outputs": [
        {
          "output_type": "stream",
          "text": [
            "[[1 2 3 4]\n",
            " [5 6 7 8]]\n",
            "1\n",
            "8\n",
            "36\n"
          ],
          "name": "stdout"
        }
      ]
    },
    {
      "cell_type": "code",
      "metadata": {
        "id": "TU-zWYYTlJc2",
        "colab_type": "code",
        "outputId": "eca8e265-bdf2-4ed0-8772-948c2b97a0dc",
        "colab": {
          "base_uri": "https://localhost:8080/",
          "height": 153
        }
      },
      "source": [
        "a = np.array([[(1,2,3,4),(5,6,7,8)],[(1,2,3,4),(5,6,7,8)]])\n",
        "print(a)\n",
        "print(a.min())\n",
        "print(a.max())\n",
        "print(a.sum())"
      ],
      "execution_count": 0,
      "outputs": [
        {
          "output_type": "stream",
          "text": [
            "[[[1 2 3 4]\n",
            "  [5 6 7 8]]\n",
            "\n",
            " [[1 2 3 4]\n",
            "  [5 6 7 8]]]\n",
            "1\n",
            "8\n",
            "72\n"
          ],
          "name": "stdout"
        }
      ]
    },
    {
      "cell_type": "markdown",
      "metadata": {
        "id": "ZaWmHB7dmBIn",
        "colab_type": "text"
      },
      "source": [
        "<h1>Axis</h1>\n",
        "axis = 0 --> cols\n",
        "axis = 1 --> rows\n",
        "\n"
      ]
    },
    {
      "cell_type": "code",
      "metadata": {
        "id": "1Qel_Hhrlb19",
        "colab_type": "code",
        "outputId": "1895b330-0230-4fe8-dcb1-efb38d4ac6b9",
        "colab": {
          "base_uri": "https://localhost:8080/",
          "height": 119
        }
      },
      "source": [
        "a = np.array([(11,2,3),(7,8,9)])\n",
        "print(a)\n",
        "\n",
        "print(a.max(axis=0))\n",
        "print(a.max(axis=1))\n",
        "\n",
        "print(a.sum(axis=0))\n",
        "print(a.sum(axis=1))\n"
      ],
      "execution_count": 0,
      "outputs": [
        {
          "output_type": "stream",
          "text": [
            "[[11  2  3]\n",
            " [ 7  8  9]]\n",
            "[11  8  9]\n",
            "[11  9]\n",
            "[18 10 12]\n",
            "[16 24]\n"
          ],
          "name": "stdout"
        }
      ]
    },
    {
      "cell_type": "markdown",
      "metadata": {
        "id": "Qtyw-4wvpzHG",
        "colab_type": "text"
      },
      "source": [
        "<h1>Square root</h1>\n",
        "Finding squareroots of each element"
      ]
    },
    {
      "cell_type": "code",
      "metadata": {
        "id": "_VrSO8v_mS8A",
        "colab_type": "code",
        "outputId": "ae518b78-203b-4097-8f97-1b915cd29f44",
        "colab": {
          "base_uri": "https://localhost:8080/",
          "height": 85
        }
      },
      "source": [
        "a = np.array([(11,2,3),(7,8,9)])\n",
        "print(a)\n",
        "\n",
        "print(np.sqrt(a))\n"
      ],
      "execution_count": 0,
      "outputs": [
        {
          "output_type": "stream",
          "text": [
            "[[11  2  3]\n",
            " [ 7  8  9]]\n",
            "[[3.31662479 1.41421356 1.73205081]\n",
            " [2.64575131 2.82842712 3.        ]]\n"
          ],
          "name": "stdout"
        }
      ]
    },
    {
      "cell_type": "markdown",
      "metadata": {
        "id": "hGyyu8apqcNd",
        "colab_type": "text"
      },
      "source": [
        "<h1>Standard Deviation</h1>\n",
        "Arithmatic steps to get the SD:</br>\n",
        "1. Work out the Mean (the simple average of the numbers)</br>\n",
        "2. Then for each number: subtract the Mean and square the result</br>\n",
        "3. Then work out the mean of those squared differences.</br>\n",
        "4. Take the square root of that and we are done!</br>\n",
        "\n",
        "\n",
        "square root of [ (1/N) times Sigma i=1 to N of (xi - mu)^2 ]\n",
        "\n"
      ]
    },
    {
      "cell_type": "code",
      "metadata": {
        "id": "oHAHMTKjqFGH",
        "colab_type": "code",
        "outputId": "0f5abea7-7429-4cf3-c68f-6a4150fd882d",
        "colab": {
          "base_uri": "https://localhost:8080/",
          "height": 68
        }
      },
      "source": [
        "a = np.array([(11,2,3),(7,8,9)])\n",
        "print(a)\n",
        "\n",
        "print(np.std(a))\n"
      ],
      "execution_count": 0,
      "outputs": [
        {
          "output_type": "stream",
          "text": [
            "[[11  2  3]\n",
            " [ 7  8  9]]\n",
            "3.197221015541813\n"
          ],
          "name": "stdout"
        }
      ]
    },
    {
      "cell_type": "markdown",
      "metadata": {
        "id": "YlArvm2w6bHX",
        "colab_type": "text"
      },
      "source": [
        "**add, subtract, multiply and divide**"
      ]
    },
    {
      "cell_type": "code",
      "metadata": {
        "id": "d80VCUemqtWJ",
        "colab_type": "code",
        "outputId": "b2fbd048-7cc4-4914-a8f8-d32d3d7d5313",
        "colab": {
          "base_uri": "https://localhost:8080/",
          "height": 153
        }
      },
      "source": [
        "a = np.array([(11,2,3),(7,8,9)])\n",
        "b = np.array([(11,2,3),(7,8,9)])\n",
        "\n",
        "print(a+b)\n",
        "print(a-b)\n",
        "print(a*b)\n",
        "print(a/b)\n",
        "\n",
        "\n"
      ],
      "execution_count": 0,
      "outputs": [
        {
          "output_type": "stream",
          "text": [
            "[[22  4  6]\n",
            " [14 16 18]]\n",
            "[[0 0 0]\n",
            " [0 0 0]]\n",
            "[[121   4   9]\n",
            " [ 49  64  81]]\n",
            "[[1. 1. 1.]\n",
            " [1. 1. 1.]]\n"
          ],
          "name": "stdout"
        }
      ]
    },
    {
      "cell_type": "markdown",
      "metadata": {
        "id": "CjRdyB1Z7HB2",
        "colab_type": "text"
      },
      "source": [
        "<h1>Concatenation or Stacking </h1>\n",
        "\n",
        "  "
      ]
    },
    {
      "cell_type": "markdown",
      "metadata": {
        "id": "QKXxoPgi7Rwy",
        "colab_type": "text"
      },
      "source": [
        "Vertical stacking"
      ]
    },
    {
      "cell_type": "code",
      "metadata": {
        "id": "KvTQkMky6wNq",
        "colab_type": "code",
        "outputId": "9d0a97ee-f696-4f96-9dde-e9d3069f3be9",
        "colab": {
          "base_uri": "https://localhost:8080/",
          "height": 85
        }
      },
      "source": [
        "a = np.array([(1,2,3),(4,5,6)])\n",
        "b = np.array([(7,8,9),(10,11,12)])\n",
        "\n",
        "print(np.vstack((a,b)))\n",
        "\n"
      ],
      "execution_count": 0,
      "outputs": [
        {
          "output_type": "stream",
          "text": [
            "[[ 1  2  3]\n",
            " [ 4  5  6]\n",
            " [ 7  8  9]\n",
            " [10 11 12]]\n"
          ],
          "name": "stdout"
        }
      ]
    },
    {
      "cell_type": "markdown",
      "metadata": {
        "id": "yvCHCs3177Om",
        "colab_type": "text"
      },
      "source": [
        "Horizontal stacking\n"
      ]
    },
    {
      "cell_type": "markdown",
      "metadata": {
        "id": "OitbALkJ7GAT",
        "colab_type": "text"
      },
      "source": [
        ""
      ]
    },
    {
      "cell_type": "code",
      "metadata": {
        "id": "BtiO8T9-8A8I",
        "colab_type": "code",
        "outputId": "f49eca34-df32-4e9e-88a4-91866b88d158",
        "colab": {
          "base_uri": "https://localhost:8080/",
          "height": 51
        }
      },
      "source": [
        "a = np.array([(1,2,3),(4,5,6)])\n",
        "b = np.array([(7,8,9),(10,11,12)])\n",
        "\n",
        "print(np.hstack((a,b)))\n"
      ],
      "execution_count": 0,
      "outputs": [
        {
          "output_type": "stream",
          "text": [
            "[[ 1  2  3  7  8  9]\n",
            " [ 4  5  6 10 11 12]]\n"
          ],
          "name": "stdout"
        }
      ]
    },
    {
      "cell_type": "markdown",
      "metadata": {
        "id": "OkCC-nFH8cJ-",
        "colab_type": "text"
      },
      "source": [
        "Converting array to column"
      ]
    },
    {
      "cell_type": "code",
      "metadata": {
        "id": "MqQlDHMZ8Csc",
        "colab_type": "code",
        "outputId": "1150a431-d1f4-492e-8c1c-dd58dc4b9e22",
        "colab": {
          "base_uri": "https://localhost:8080/",
          "height": 34
        }
      },
      "source": [
        "a = np.array([(1,2,3),(4,5,6)])\n",
        "\n",
        "print(a.ravel())"
      ],
      "execution_count": 0,
      "outputs": [
        {
          "output_type": "stream",
          "text": [
            "[1 2 3 4 5 6]\n"
          ],
          "name": "stdout"
        }
      ]
    },
    {
      "cell_type": "code",
      "metadata": {
        "id": "1Skgf7fA8knE",
        "colab_type": "code",
        "colab": {}
      },
      "source": [
        ""
      ],
      "execution_count": 0,
      "outputs": []
    }
  ]
}